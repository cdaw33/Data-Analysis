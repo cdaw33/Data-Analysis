{
 "cells": [
  {
   "cell_type": "code",
   "execution_count": 193,
   "metadata": {},
   "outputs": [],
   "source": [
    "#Import libraries used throughout program \n",
    "import numpy as np\n",
    "import random\n",
    "from sklearn.svm import SVC\n",
    "import pandas as pd\n"
   ]
  },
  {
   "cell_type": "code",
   "execution_count": 280,
   "metadata": {},
   "outputs": [],
   "source": [
    "#Read the data from excel file\n",
    "data = pd.read_csv(\"E:\\Data Analytics\\diabetes10005.csv\", header=None)\n",
    "#Changes the zeros in the diagnosis column to numpy Nan values\n",
    "data[[18]] = data[[18]].replace(0, np.NaN)\n",
    "#Removes the missing values\n",
    "data.dropna(inplace=True)"
   ]
  },
  {
   "cell_type": "code",
   "execution_count": 281,
   "metadata": {},
   "outputs": [],
   "source": [
    "#Creates the training and the testing data\n",
    "datalines = data[[4,18,49]].values\n",
    "#Randomises the data to so the test and train data are from different parts of the table\n",
    "random.shuffle(datalines)\n",
    "train_data = datalines[:499]\n",
    "test_data = datalines[499:]"
   ]
  },
  {
   "cell_type": "code",
   "execution_count": 298,
   "metadata": {},
   "outputs": [],
   "source": [
    "#Function to calculate the mean of the data that has been readmitted or not\n",
    "def mean_calculator(data,index,readmit):\n",
    "#Creates an array\n",
    "    temp = []\n",
    "    for x,y,z in data:\n",
    "        if index == 0 and z in readmit:\n",
    "            temp.append(x)\n",
    "        elif index == 1 and z in readmit:\n",
    "            temp.append(y)\n",
    "    return np.mean(temp)"
   ]
  },
  {
   "cell_type": "code",
   "execution_count": 299,
   "metadata": {},
   "outputs": [],
   "source": [
    "mean_diag_1_readmit = mean_calculator(train_data,1,'YES')\n",
    "mean_age_readmit = mean_calculator(train_data,0,'YES')\n",
    "mean_diag_1_noreadmit = mean_calculator(train_data,1,'NO')\n",
    "mean_age_noreadmit = mean_calculator(train_data,0,'NO')"
   ]
  },
  {
   "cell_type": "code",
   "execution_count": 300,
   "metadata": {},
   "outputs": [
    {
     "data": {
      "text/plain": [
       "1.4307692307692308"
      ]
     },
     "execution_count": 300,
     "metadata": {},
     "output_type": "execute_result"
    }
   ],
   "source": [
    "mean_admissiontype_readmit"
   ]
  },
  {
   "cell_type": "code",
   "execution_count": 301,
   "metadata": {},
   "outputs": [
    {
     "data": {
      "text/plain": [
       "6.744186046511628"
      ]
     },
     "execution_count": 301,
     "metadata": {},
     "output_type": "execute_result"
    }
   ],
   "source": [
    "mean_age_readmit"
   ]
  },
  {
   "cell_type": "code",
   "execution_count": 302,
   "metadata": {},
   "outputs": [
    {
     "data": {
      "text/plain": [
       "2.169491525423729"
      ]
     },
     "execution_count": 302,
     "metadata": {},
     "output_type": "execute_result"
    }
   ],
   "source": [
    "mean_admissiontype_noreadmit"
   ]
  },
  {
   "cell_type": "code",
   "execution_count": 303,
   "metadata": {},
   "outputs": [
    {
     "data": {
      "text/plain": [
       "6.537280701754386"
      ]
     },
     "execution_count": 303,
     "metadata": {},
     "output_type": "execute_result"
    }
   ],
   "source": [
    "mean_age_noreadmit"
   ]
  },
  {
   "cell_type": "code",
   "execution_count": 304,
   "metadata": {},
   "outputs": [],
   "source": [
    "def distance(x1,y1,x2,y2):\n",
    "    return (x1-x2)**2 + (y1-y2)**2\n",
    "\n",
    "#function testing the model\n",
    "def test_machine(m,p):\n",
    "    distance1 = distance(mean_age_readmit,mean_diag_1_readmit,m,p)\n",
    "    distance2 = distance(mean_age_noreadmit,mean_diag_1_noreadmit,m,p)\n",
    "    if distance1 > distance2:\n",
    "        result = 'NO'\n",
    "    else:\n",
    "        result = 'YES'\n",
    "    return result"
   ]
  },
  {
   "cell_type": "code",
   "execution_count": 305,
   "metadata": {},
   "outputs": [
    {
     "data": {
      "text/plain": [
       "'NO'"
      ]
     },
     "execution_count": 305,
     "metadata": {},
     "output_type": "execute_result"
    }
   ],
   "source": [
    "test_machine(5, 689)"
   ]
  },
  {
   "cell_type": "code",
   "execution_count": 306,
   "metadata": {},
   "outputs": [],
   "source": [
    "model_output = []\n",
    "for x1,x2,y in test_data:\n",
    "    model_output.append(test_machine(x1, x2))"
   ]
  },
  {
   "cell_type": "code",
   "execution_count": 307,
   "metadata": {},
   "outputs": [],
   "source": [
    "expected = []\n",
    "for x1,x2,y in test_data:\n",
    "    expected.append(y)"
   ]
  },
  {
   "cell_type": "code",
   "execution_count": 308,
   "metadata": {},
   "outputs": [],
   "source": [
    "def calculate_accuracy(model_ouput_array,expected_array):\n",
    "    counter = 0\n",
    "    total_correct = 0\n",
    "    for i in expected_array:\n",
    "        if expected_array[counter] == model_ouput_array[counter]:\n",
    "            total_correct = total_correct + 1\n",
    "        counter = counter + 1\n",
    "    accuracy = total_correct/counter\n",
    "    return accuracy"
   ]
  },
  {
   "cell_type": "code",
   "execution_count": 309,
   "metadata": {},
   "outputs": [
    {
     "data": {
      "text/plain": [
       "0.44488977955911824"
      ]
     },
     "execution_count": 309,
     "metadata": {},
     "output_type": "execute_result"
    }
   ],
   "source": [
    "calculate_accuracy(model_output,expected)"
   ]
  },
  {
   "cell_type": "code",
   "execution_count": 310,
   "metadata": {},
   "outputs": [],
   "source": [
    "from sklearn.svm import SVC"
   ]
  },
  {
   "cell_type": "code",
   "execution_count": 311,
   "metadata": {},
   "outputs": [],
   "source": [
    "x_train = train_data[:,0:2]\n",
    "y_train = train_data[:,2]\n",
    "x_test = test_data[:,0:2]\n",
    "y_test = test_data[:,2]"
   ]
  },
  {
   "cell_type": "code",
   "execution_count": 312,
   "metadata": {},
   "outputs": [
    {
     "name": "stderr",
     "output_type": "stream",
     "text": [
      "C:\\Users\\User\\Anaconda3\\lib\\site-packages\\sklearn\\svm\\base.py:196: FutureWarning: The default value of gamma will change from 'auto' to 'scale' in version 0.22 to account better for unscaled features. Set gamma explicitly to 'auto' or 'scale' to avoid this warning.\n",
      "  \"avoid this warning.\", FutureWarning)\n"
     ]
    }
   ],
   "source": [
    "#create an svc model\n",
    "svm_model = SVC()\n",
    "#train the model\n",
    "svm_model.fit(x_train, y_train)\n",
    "#use the model for classifying unknown test feature data\n",
    "svm_output = svm_model.predict(x_test)"
   ]
  },
  {
   "cell_type": "code",
   "execution_count": 313,
   "metadata": {},
   "outputs": [
    {
     "data": {
      "text/plain": [
       "0.8957915831663327"
      ]
     },
     "execution_count": 313,
     "metadata": {},
     "output_type": "execute_result"
    }
   ],
   "source": [
    "calculate_accuracy(svm_output,expected)"
   ]
  },
  {
   "cell_type": "code",
   "execution_count": null,
   "metadata": {},
   "outputs": [],
   "source": []
  }
 ],
 "metadata": {
  "kernelspec": {
   "display_name": "Python 3",
   "language": "python",
   "name": "python3"
  },
  "language_info": {
   "codemirror_mode": {
    "name": "ipython",
    "version": 3
   },
   "file_extension": ".py",
   "mimetype": "text/x-python",
   "name": "python",
   "nbconvert_exporter": "python",
   "pygments_lexer": "ipython3",
   "version": "3.6.5"
  }
 },
 "nbformat": 4,
 "nbformat_minor": 2
}
